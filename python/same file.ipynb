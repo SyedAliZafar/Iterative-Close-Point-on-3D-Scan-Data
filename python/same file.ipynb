{
 "cells": [
  {
   "cell_type": "code",
   "execution_count": 1,
   "id": "7bb7b7f8",
   "metadata": {},
   "outputs": [],
   "source": [
    "\n",
    "import filecmp"
   ]
  },
  {
   "cell_type": "code",
   "execution_count": 2,
   "id": "f2003a3a",
   "metadata": {},
   "outputs": [],
   "source": [
    "path_to_pc1 = '../data/RR_Blade_CAD/RR_Scan_Vers_1.txt'\n",
    "path_to_pc2 = '../data/RR_Blade_CAD/RR_Scan_Vers_1.txt'"
   ]
  },
  {
   "cell_type": "code",
   "execution_count": 7,
   "id": "32c38e92",
   "metadata": {},
   "outputs": [
    {
     "name": "stdout",
     "output_type": "stream",
     "text": [
      "Line  1 -12.555070 -0.742979 1.676609\n",
      "\n",
      "Line  2 -12.548866 -0.967415 1.307911\n",
      "\n"
     ]
    }
   ],
   "source": [
    "\n",
    "# reading files\n",
    "f1 = open(path_to_pc1, \"r\")  \n",
    "f2 = open(path_to_pc2, \"r\")  \n",
    "  \n",
    "i = 0\n",
    "  \n",
    "for line1 in f1:\n",
    "    i += 1\n",
    "      \n",
    "    for line2 in f2:\n",
    "          \n",
    "        # matching line1 from both files\n",
    "        if line1 == line2:  \n",
    "            # print IDENTICAL if similar\n",
    "            if i<3:\n",
    "                print(\"Line \", i, line2) \n",
    "            \n",
    "            else:\n",
    "                  break\n",
    "                  \n",
    "        else:\n",
    "            print(\"Line \", i, \":\")\n",
    "            # else print that line from both files\n",
    "            print(\"\\tFile 1:\", line1, end='')\n",
    "            print(\"\\tFile 2:\", line2, end='')\n",
    "        break\n",
    "  \n",
    "# closing files\n",
    "f1.close()                                       \n",
    "f2.close()   "
   ]
  },
  {
   "cell_type": "code",
   "execution_count": 8,
   "id": "059a2881",
   "metadata": {},
   "outputs": [
    {
     "data": {
      "text/plain": [
       "'C:\\\\Access_ev\\\\Image_Processing_Material\\\\simpleICP\\\\python'"
      ]
     },
     "execution_count": 8,
     "metadata": {},
     "output_type": "execute_result"
    }
   ],
   "source": [
    "pwd"
   ]
  },
  {
   "cell_type": "code",
   "execution_count": null,
   "id": "30484f80",
   "metadata": {},
   "outputs": [],
   "source": []
  }
 ],
 "metadata": {
  "kernelspec": {
   "display_name": "Python 3 (ipykernel)",
   "language": "python",
   "name": "python3"
  },
  "language_info": {
   "codemirror_mode": {
    "name": "ipython",
    "version": 3
   },
   "file_extension": ".py",
   "mimetype": "text/x-python",
   "name": "python",
   "nbconvert_exporter": "python",
   "pygments_lexer": "ipython3",
   "version": "3.8.11"
  }
 },
 "nbformat": 4,
 "nbformat_minor": 5
}
