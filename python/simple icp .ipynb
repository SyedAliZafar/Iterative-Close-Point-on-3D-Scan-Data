{
 "cells": [
  {
   "cell_type": "code",
   "execution_count": null,
   "id": "b134248c",
   "metadata": {},
   "outputs": [],
   "source": [
    "import csv\n",
    "import numpy as np\n",
    "import simpleicp\n",
    "\n",
    "\n",
    "def read_xyz(path_to_pc):\n",
    "    X = []\n",
    "    with open(path_to_pc) as f:\n",
    "        reader = csv.reader(f, delimiter=' ')\n",
    "        for row in reader:\n",
    "            X.append(list(map(float, row)))\n",
    "    return X\n",
    "\n",
    "#path_to_pc1 = '../data/dragon1.xyz'\n",
    "#path_to_pc2 = '../data/dragon2.xyz'\n",
    "\n",
    "path_to_pc1 = '../data/airborne_lidar1.xyz'\n",
    "path_to_pc2 = '../data/airborne_lidar2.xyz'\n",
    "\n",
    "#path_to_pc1 = '../../../RR/FW75735_jt.xyz'\n",
    "#path_to_pc2 = '../../../RR/CAD_Files/RR-Blade.pcd'\n",
    "\n",
    "X_fix = np.array(read_xyz(path_to_pc1))\n",
    "X_mov = np.array(read_xyz(path_to_pc2))\n",
    "\n",
    "print(path_to_pc1)\n",
    "print(path_to_pc2)\n",
    "\n",
    "simpleicp.simpleicp(X_fix, X_mov)"
   ]
  },
  {
   "cell_type": "code",
   "execution_count": null,
   "id": "b8d215ea",
   "metadata": {},
   "outputs": [],
   "source": [
    "#type(simpleicp.simpleicp(X_fix, X_mov))"
   ]
  },
  {
   "cell_type": "code",
   "execution_count": null,
   "id": "2924e1bb",
   "metadata": {},
   "outputs": [],
   "source": [
    "transformation=simpleicp.simpleicp(X_fix, X_mov)"
   ]
  },
  {
   "cell_type": "code",
   "execution_count": null,
   "id": "b812c32e",
   "metadata": {},
   "outputs": [],
   "source": [
    "type(transformation)"
   ]
  },
  {
   "cell_type": "code",
   "execution_count": null,
   "id": "e2c46c2e",
   "metadata": {},
   "outputs": [],
   "source": [
    "import cv2\n",
    "import numpy as np\n",
    "\n",
    "#img = ... # Your image as a numpy array \n",
    "\n",
    "cv2.imwrite(\"filename.png\", transformation)"
   ]
  },
  {
   "cell_type": "code",
   "execution_count": null,
   "id": "3a1ee5a9",
   "metadata": {},
   "outputs": [],
   "source": []
  },
  {
   "cell_type": "code",
   "execution_count": null,
   "id": "4dde8c83",
   "metadata": {},
   "outputs": [],
   "source": []
  },
  {
   "cell_type": "code",
   "execution_count": null,
   "id": "fc9c13f6",
   "metadata": {},
   "outputs": [],
   "source": []
  },
  {
   "cell_type": "code",
   "execution_count": null,
   "id": "6e005228",
   "metadata": {},
   "outputs": [],
   "source": []
  },
  {
   "cell_type": "code",
   "execution_count": null,
   "id": "d0bc3f81",
   "metadata": {},
   "outputs": [],
   "source": [
    "!pip install ipyvtklink"
   ]
  },
  {
   "cell_type": "code",
   "execution_count": null,
   "id": "c7c5dd5f",
   "metadata": {},
   "outputs": [],
   "source": [
    "#########https://stackoverflow.com/questions/54898657/i-want-to-generate-a-mesh-from-a-point-cloud-in-python\n",
    "# I want to generate a mesh from a point cloud in Python\n",
    "\n",
    "import numpy as np\n",
    "import pyvista as pv\n",
    "\n",
    "# points is a 3D numpy array (n_points, 3) coordinates of a sphere\n",
    "cloud = pv.PolyData(X_fix)\n",
    "cloud.plot()\n",
    "\n",
    "volume = cloud.delaunay_3d(alpha=2.)\n",
    "shell = volume.extract_geometry()\n",
    "shell.plot()"
   ]
  },
  {
   "cell_type": "code",
   "execution_count": null,
   "id": "798402b6",
   "metadata": {},
   "outputs": [],
   "source": []
  }
 ],
 "metadata": {
  "kernelspec": {
   "display_name": "Python 3 (ipykernel)",
   "language": "python",
   "name": "python3"
  },
  "language_info": {
   "codemirror_mode": {
    "name": "ipython",
    "version": 3
   },
   "file_extension": ".py",
   "mimetype": "text/x-python",
   "name": "python",
   "nbconvert_exporter": "python",
   "pygments_lexer": "ipython3",
   "version": "3.8.11"
  }
 },
 "nbformat": 4,
 "nbformat_minor": 5
}
