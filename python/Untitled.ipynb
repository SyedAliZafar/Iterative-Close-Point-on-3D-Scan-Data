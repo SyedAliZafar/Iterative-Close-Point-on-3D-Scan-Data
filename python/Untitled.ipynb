{
 "cells": [
  {
   "cell_type": "code",
   "execution_count": 3,
   "id": "edc75b1a",
   "metadata": {},
   "outputs": [],
   "source": [
    "import csv\n",
    "import numpy as np"
   ]
  },
  {
   "cell_type": "code",
   "execution_count": 4,
   "id": "31602e9c",
   "metadata": {},
   "outputs": [
    {
     "data": {
      "text/plain": [
       "'C:\\\\Access_ev\\\\Image_Processing_Material\\\\simpleICP\\\\python'"
      ]
     },
     "execution_count": 4,
     "metadata": {},
     "output_type": "execute_result"
    }
   ],
   "source": [
    "pwd"
   ]
  },
  {
   "cell_type": "code",
   "execution_count": 21,
   "id": "08521527",
   "metadata": {},
   "outputs": [],
   "source": [
    "path_to_pc1 = '../data/RR_Blade_CAD/new.txt'\n",
    "path_to_pc2= '../data/RR_Blade_CAD/RR_Scan_Vers_1.txt'\n"
   ]
  },
  {
   "cell_type": "code",
   "execution_count": 24,
   "id": "00ba660a",
   "metadata": {},
   "outputs": [],
   "source": [
    "X = []\n",
    "with open(path_to_pc1) as f:\n",
    "    reader = csv.reader(f, delimiter=' ')\n",
    "    for row in reader:\n",
    "        X.append(list(map(float, row)))\n"
   ]
  },
  {
   "cell_type": "code",
   "execution_count": null,
   "id": "73aed5ba",
   "metadata": {},
   "outputs": [],
   "source": []
  },
  {
   "cell_type": "code",
   "execution_count": 48,
   "id": "e0112463",
   "metadata": {},
   "outputs": [],
   "source": [
    "\n",
    "path_to_pc3='../data/RR_Blade_CAD/pandas.txt'\n",
    "T = []\n",
    "with open(path_to_pc3) as f:\n",
    "    reader = csv.reader(f, delimiter=' ')\n",
    "    for row in reader:\n",
    "        T.append(list(map(float, row)))\n"
   ]
  },
  {
   "cell_type": "code",
   "execution_count": 1,
   "id": "a87d494d",
   "metadata": {},
   "outputs": [
    {
     "ename": "ValueError",
     "evalue": "invalid literal for int() with base 10: '-12.555070'",
     "output_type": "error",
     "traceback": [
      "\u001b[1;31m---------------------------------------------------------------------------\u001b[0m",
      "\u001b[1;31mValueError\u001b[0m                                Traceback (most recent call last)",
      "\u001b[1;32m~\\AppData\\Local\\Temp/ipykernel_18248/2563271293.py\u001b[0m in \u001b[0;36m<module>\u001b[1;34m\u001b[0m\n\u001b[0;32m      7\u001b[0m \u001b[1;33m\u001b[0m\u001b[0m\n\u001b[0;32m      8\u001b[0m         numbers.extend( #Append the list of numbers to the result array\n\u001b[1;32m----> 9\u001b[1;33m             [int(item) #Convert each number to an integer\n\u001b[0m\u001b[0;32m     10\u001b[0m              \u001b[1;32mfor\u001b[0m \u001b[0mitem\u001b[0m \u001b[1;32min\u001b[0m \u001b[0mline\u001b[0m\u001b[1;33m.\u001b[0m\u001b[0msplit\u001b[0m\u001b[1;33m(\u001b[0m\u001b[1;33m)\u001b[0m \u001b[1;31m#Split each line of whitespace\u001b[0m\u001b[1;33m\u001b[0m\u001b[1;33m\u001b[0m\u001b[0m\n\u001b[0;32m     11\u001b[0m              ])\n",
      "\u001b[1;32m~\\AppData\\Local\\Temp/ipykernel_18248/2563271293.py\u001b[0m in \u001b[0;36m<listcomp>\u001b[1;34m(.0)\u001b[0m\n\u001b[0;32m      7\u001b[0m \u001b[1;33m\u001b[0m\u001b[0m\n\u001b[0;32m      8\u001b[0m         numbers.extend( #Append the list of numbers to the result array\n\u001b[1;32m----> 9\u001b[1;33m             [int(item) #Convert each number to an integer\n\u001b[0m\u001b[0;32m     10\u001b[0m              \u001b[1;32mfor\u001b[0m \u001b[0mitem\u001b[0m \u001b[1;32min\u001b[0m \u001b[0mline\u001b[0m\u001b[1;33m.\u001b[0m\u001b[0msplit\u001b[0m\u001b[1;33m(\u001b[0m\u001b[1;33m)\u001b[0m \u001b[1;31m#Split each line of whitespace\u001b[0m\u001b[1;33m\u001b[0m\u001b[1;33m\u001b[0m\u001b[0m\n\u001b[0;32m     11\u001b[0m              ])\n",
      "\u001b[1;31mValueError\u001b[0m: invalid literal for int() with base 10: '-12.555070'"
     ]
    }
   ],
   "source": [
    "numbers = []\n",
    "\n",
    "#Open the file\n",
    "with open('../data/RR_Blade_CAD/RR_Scan_Vers_1.txt') as fp:\n",
    "    #Iterate through each line\n",
    "    for line in fp:\n",
    "\n",
    "        numbers.extend( #Append the list of numbers to the result array\n",
    "            [int(item) #Convert each number to an integer\n",
    "             for item in line.split() #Split each line of whitespace\n",
    "             ])\n",
    "\n",
    "print(numbers)"
   ]
  },
  {
   "cell_type": "code",
   "execution_count": 25,
   "id": "8c0e203d",
   "metadata": {},
   "outputs": [],
   "source": [
    "import pandas as pd\n"
   ]
  },
  {
   "cell_type": "code",
   "execution_count": 31,
   "id": "447ebd09",
   "metadata": {},
   "outputs": [],
   "source": [
    "a_dataframe = pd.read_csv(\"../data/RR_Blade_CAD/RR_Scan_Vers_2 partial2.txt\",header=None,sep=\" \")"
   ]
  },
  {
   "cell_type": "code",
   "execution_count": 38,
   "id": "4d375f15",
   "metadata": {},
   "outputs": [],
   "source": [
    "df=a_dataframe"
   ]
  },
  {
   "cell_type": "code",
   "execution_count": 42,
   "id": "f63bbf0d",
   "metadata": {},
   "outputs": [],
   "source": [
    "df_corrected=df.drop(df.columns[3], axis=1)\n"
   ]
  },
  {
   "cell_type": "code",
   "execution_count": 43,
   "id": "67128cb9",
   "metadata": {},
   "outputs": [
    {
     "data": {
      "text/html": [
       "<div>\n",
       "<style scoped>\n",
       "    .dataframe tbody tr th:only-of-type {\n",
       "        vertical-align: middle;\n",
       "    }\n",
       "\n",
       "    .dataframe tbody tr th {\n",
       "        vertical-align: top;\n",
       "    }\n",
       "\n",
       "    .dataframe thead th {\n",
       "        text-align: right;\n",
       "    }\n",
       "</style>\n",
       "<table border=\"1\" class=\"dataframe\">\n",
       "  <thead>\n",
       "    <tr style=\"text-align: right;\">\n",
       "      <th></th>\n",
       "      <th>0</th>\n",
       "      <th>1</th>\n",
       "      <th>2</th>\n",
       "    </tr>\n",
       "  </thead>\n",
       "  <tbody>\n",
       "    <tr>\n",
       "      <th>0</th>\n",
       "      <td>-5.326430</td>\n",
       "      <td>3.433656</td>\n",
       "      <td>21.038340</td>\n",
       "    </tr>\n",
       "    <tr>\n",
       "      <th>1</th>\n",
       "      <td>-4.834270</td>\n",
       "      <td>3.505393</td>\n",
       "      <td>21.099781</td>\n",
       "    </tr>\n",
       "    <tr>\n",
       "      <th>2</th>\n",
       "      <td>-5.032213</td>\n",
       "      <td>3.441587</td>\n",
       "      <td>20.728683</td>\n",
       "    </tr>\n",
       "    <tr>\n",
       "      <th>3</th>\n",
       "      <td>-5.471784</td>\n",
       "      <td>3.697094</td>\n",
       "      <td>17.951849</td>\n",
       "    </tr>\n",
       "    <tr>\n",
       "      <th>4</th>\n",
       "      <td>-4.822983</td>\n",
       "      <td>3.649548</td>\n",
       "      <td>21.638624</td>\n",
       "    </tr>\n",
       "    <tr>\n",
       "      <th>...</th>\n",
       "      <td>...</td>\n",
       "      <td>...</td>\n",
       "      <td>...</td>\n",
       "    </tr>\n",
       "    <tr>\n",
       "      <th>3930</th>\n",
       "      <td>17.118505</td>\n",
       "      <td>8.027844</td>\n",
       "      <td>19.235895</td>\n",
       "    </tr>\n",
       "    <tr>\n",
       "      <th>3931</th>\n",
       "      <td>17.022545</td>\n",
       "      <td>8.040019</td>\n",
       "      <td>19.188288</td>\n",
       "    </tr>\n",
       "    <tr>\n",
       "      <th>3932</th>\n",
       "      <td>16.886343</td>\n",
       "      <td>8.169938</td>\n",
       "      <td>19.110136</td>\n",
       "    </tr>\n",
       "    <tr>\n",
       "      <th>3933</th>\n",
       "      <td>16.755871</td>\n",
       "      <td>8.324672</td>\n",
       "      <td>19.031458</td>\n",
       "    </tr>\n",
       "    <tr>\n",
       "      <th>3934</th>\n",
       "      <td>16.679781</td>\n",
       "      <td>8.194657</td>\n",
       "      <td>19.014841</td>\n",
       "    </tr>\n",
       "  </tbody>\n",
       "</table>\n",
       "<p>3935 rows × 3 columns</p>\n",
       "</div>"
      ],
      "text/plain": [
       "              0         1          2\n",
       "0     -5.326430  3.433656  21.038340\n",
       "1     -4.834270  3.505393  21.099781\n",
       "2     -5.032213  3.441587  20.728683\n",
       "3     -5.471784  3.697094  17.951849\n",
       "4     -4.822983  3.649548  21.638624\n",
       "...         ...       ...        ...\n",
       "3930  17.118505  8.027844  19.235895\n",
       "3931  17.022545  8.040019  19.188288\n",
       "3932  16.886343  8.169938  19.110136\n",
       "3933  16.755871  8.324672  19.031458\n",
       "3934  16.679781  8.194657  19.014841\n",
       "\n",
       "[3935 rows x 3 columns]"
      ]
     },
     "execution_count": 43,
     "metadata": {},
     "output_type": "execute_result"
    }
   ],
   "source": [
    "df_corrected"
   ]
  },
  {
   "cell_type": "code",
   "execution_count": 47,
   "id": "0cda80ff",
   "metadata": {},
   "outputs": [],
   "source": [
    "df_corrected.to_csv(r'pandas.txt', header=None, index=None, sep=' ')"
   ]
  },
  {
   "cell_type": "code",
   "execution_count": null,
   "id": "43211ce8",
   "metadata": {},
   "outputs": [],
   "source": []
  }
 ],
 "metadata": {
  "kernelspec": {
   "display_name": "Python 3 (ipykernel)",
   "language": "python",
   "name": "python3"
  },
  "language_info": {
   "codemirror_mode": {
    "name": "ipython",
    "version": 3
   },
   "file_extension": ".py",
   "mimetype": "text/x-python",
   "name": "python",
   "nbconvert_exporter": "python",
   "pygments_lexer": "ipython3",
   "version": "3.8.11"
  }
 },
 "nbformat": 4,
 "nbformat_minor": 5
}
