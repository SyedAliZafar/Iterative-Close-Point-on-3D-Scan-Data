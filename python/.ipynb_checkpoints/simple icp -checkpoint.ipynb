{
 "cells": [
  {
   "cell_type": "code",
   "execution_count": 1,
   "id": "b134248c",
   "metadata": {},
   "outputs": [
    {
     "ename": "UnicodeDecodeError",
     "evalue": "'charmap' codec can't decode byte 0x8d in position 259: character maps to <undefined>",
     "output_type": "error",
     "traceback": [
      "\u001b[1;31m---------------------------------------------------------------------------\u001b[0m",
      "\u001b[1;31mUnicodeDecodeError\u001b[0m                        Traceback (most recent call last)",
      "\u001b[1;32m~\\AppData\\Local\\Temp/ipykernel_16856/821632469.py\u001b[0m in \u001b[0;36m<module>\u001b[1;34m\u001b[0m\n\u001b[0;32m     21\u001b[0m \u001b[0mpath_to_pc2\u001b[0m \u001b[1;33m=\u001b[0m \u001b[1;34m'../../../RR/CAD_Files/RR-Blade.pcd'\u001b[0m\u001b[1;33m\u001b[0m\u001b[1;33m\u001b[0m\u001b[0m\n\u001b[0;32m     22\u001b[0m \u001b[1;33m\u001b[0m\u001b[0m\n\u001b[1;32m---> 23\u001b[1;33m \u001b[0mX_fix\u001b[0m \u001b[1;33m=\u001b[0m \u001b[0mnp\u001b[0m\u001b[1;33m.\u001b[0m\u001b[0marray\u001b[0m\u001b[1;33m(\u001b[0m\u001b[0mread_xyz\u001b[0m\u001b[1;33m(\u001b[0m\u001b[0mpath_to_pc1\u001b[0m\u001b[1;33m)\u001b[0m\u001b[1;33m)\u001b[0m\u001b[1;33m\u001b[0m\u001b[1;33m\u001b[0m\u001b[0m\n\u001b[0m\u001b[0;32m     24\u001b[0m \u001b[0mX_mov\u001b[0m \u001b[1;33m=\u001b[0m \u001b[0mnp\u001b[0m\u001b[1;33m.\u001b[0m\u001b[0marray\u001b[0m\u001b[1;33m(\u001b[0m\u001b[0mread_xyz\u001b[0m\u001b[1;33m(\u001b[0m\u001b[0mpath_to_pc2\u001b[0m\u001b[1;33m)\u001b[0m\u001b[1;33m)\u001b[0m\u001b[1;33m\u001b[0m\u001b[1;33m\u001b[0m\u001b[0m\n\u001b[0;32m     25\u001b[0m \u001b[1;33m\u001b[0m\u001b[0m\n",
      "\u001b[1;32m~\\AppData\\Local\\Temp/ipykernel_16856/821632469.py\u001b[0m in \u001b[0;36mread_xyz\u001b[1;34m(path_to_pc)\u001b[0m\n\u001b[0;32m      8\u001b[0m     \u001b[1;32mwith\u001b[0m \u001b[0mopen\u001b[0m\u001b[1;33m(\u001b[0m\u001b[0mpath_to_pc\u001b[0m\u001b[1;33m)\u001b[0m \u001b[1;32mas\u001b[0m \u001b[0mf\u001b[0m\u001b[1;33m:\u001b[0m\u001b[1;33m\u001b[0m\u001b[1;33m\u001b[0m\u001b[0m\n\u001b[0;32m      9\u001b[0m         \u001b[0mreader\u001b[0m \u001b[1;33m=\u001b[0m \u001b[0mcsv\u001b[0m\u001b[1;33m.\u001b[0m\u001b[0mreader\u001b[0m\u001b[1;33m(\u001b[0m\u001b[0mf\u001b[0m\u001b[1;33m,\u001b[0m \u001b[0mdelimiter\u001b[0m\u001b[1;33m=\u001b[0m\u001b[1;34m' '\u001b[0m\u001b[1;33m)\u001b[0m\u001b[1;33m\u001b[0m\u001b[1;33m\u001b[0m\u001b[0m\n\u001b[1;32m---> 10\u001b[1;33m         \u001b[1;32mfor\u001b[0m \u001b[0mrow\u001b[0m \u001b[1;32min\u001b[0m \u001b[0mreader\u001b[0m\u001b[1;33m:\u001b[0m\u001b[1;33m\u001b[0m\u001b[1;33m\u001b[0m\u001b[0m\n\u001b[0m\u001b[0;32m     11\u001b[0m             \u001b[0mX\u001b[0m\u001b[1;33m.\u001b[0m\u001b[0mappend\u001b[0m\u001b[1;33m(\u001b[0m\u001b[0mlist\u001b[0m\u001b[1;33m(\u001b[0m\u001b[0mmap\u001b[0m\u001b[1;33m(\u001b[0m\u001b[0mfloat\u001b[0m\u001b[1;33m,\u001b[0m \u001b[0mrow\u001b[0m\u001b[1;33m)\u001b[0m\u001b[1;33m)\u001b[0m\u001b[1;33m)\u001b[0m\u001b[1;33m\u001b[0m\u001b[1;33m\u001b[0m\u001b[0m\n\u001b[0;32m     12\u001b[0m     \u001b[1;32mreturn\u001b[0m \u001b[0mX\u001b[0m\u001b[1;33m\u001b[0m\u001b[1;33m\u001b[0m\u001b[0m\n",
      "\u001b[1;32m~\\Anaconda3\\envs\\object_detection\\lib\\encodings\\cp1252.py\u001b[0m in \u001b[0;36mdecode\u001b[1;34m(self, input, final)\u001b[0m\n\u001b[0;32m     21\u001b[0m \u001b[1;32mclass\u001b[0m \u001b[0mIncrementalDecoder\u001b[0m\u001b[1;33m(\u001b[0m\u001b[0mcodecs\u001b[0m\u001b[1;33m.\u001b[0m\u001b[0mIncrementalDecoder\u001b[0m\u001b[1;33m)\u001b[0m\u001b[1;33m:\u001b[0m\u001b[1;33m\u001b[0m\u001b[1;33m\u001b[0m\u001b[0m\n\u001b[0;32m     22\u001b[0m     \u001b[1;32mdef\u001b[0m \u001b[0mdecode\u001b[0m\u001b[1;33m(\u001b[0m\u001b[0mself\u001b[0m\u001b[1;33m,\u001b[0m \u001b[0minput\u001b[0m\u001b[1;33m,\u001b[0m \u001b[0mfinal\u001b[0m\u001b[1;33m=\u001b[0m\u001b[1;32mFalse\u001b[0m\u001b[1;33m)\u001b[0m\u001b[1;33m:\u001b[0m\u001b[1;33m\u001b[0m\u001b[1;33m\u001b[0m\u001b[0m\n\u001b[1;32m---> 23\u001b[1;33m         \u001b[1;32mreturn\u001b[0m \u001b[0mcodecs\u001b[0m\u001b[1;33m.\u001b[0m\u001b[0mcharmap_decode\u001b[0m\u001b[1;33m(\u001b[0m\u001b[0minput\u001b[0m\u001b[1;33m,\u001b[0m\u001b[0mself\u001b[0m\u001b[1;33m.\u001b[0m\u001b[0merrors\u001b[0m\u001b[1;33m,\u001b[0m\u001b[0mdecoding_table\u001b[0m\u001b[1;33m)\u001b[0m\u001b[1;33m[\u001b[0m\u001b[1;36m0\u001b[0m\u001b[1;33m]\u001b[0m\u001b[1;33m\u001b[0m\u001b[1;33m\u001b[0m\u001b[0m\n\u001b[0m\u001b[0;32m     24\u001b[0m \u001b[1;33m\u001b[0m\u001b[0m\n\u001b[0;32m     25\u001b[0m \u001b[1;32mclass\u001b[0m \u001b[0mStreamWriter\u001b[0m\u001b[1;33m(\u001b[0m\u001b[0mCodec\u001b[0m\u001b[1;33m,\u001b[0m\u001b[0mcodecs\u001b[0m\u001b[1;33m.\u001b[0m\u001b[0mStreamWriter\u001b[0m\u001b[1;33m)\u001b[0m\u001b[1;33m:\u001b[0m\u001b[1;33m\u001b[0m\u001b[1;33m\u001b[0m\u001b[0m\n",
      "\u001b[1;31mUnicodeDecodeError\u001b[0m: 'charmap' codec can't decode byte 0x8d in position 259: character maps to <undefined>"
     ]
    }
   ],
   "source": [
    "import csv\n",
    "import numpy as np\n",
    "import simpleicp\n",
    "\n",
    "\n",
    "def read_xyz(path_to_pc):\n",
    "    X = []\n",
    "    with open(path_to_pc) as f:\n",
    "        reader = csv.reader(f, delimiter=' ')\n",
    "        for row in reader:\n",
    "            X.append(list(map(float, row)))\n",
    "    return X\n",
    "\n",
    "#path_to_pc1 = '../data/dragon1.xyz'\n",
    "#path_to_pc2 = '../data/dragon2.xyz'\n",
    "\n",
    "path_to_pc1 = '../data/airborne_lidar1.xyz'\n",
    "path_to_pc2 = '../data/airborne_lidar2.xyz'\n",
    "\n",
    "#path_to_pc1 = '../../../RR/FW75735_jt.xyz'\n",
    "#path_to_pc2 = '../../../RR/CAD_Files/RR-Blade.pcd'\n",
    "\n",
    "X_fix = np.array(read_xyz(path_to_pc1))\n",
    "X_mov = np.array(read_xyz(path_to_pc2))\n",
    "\n",
    "print(path_to_pc1)\n",
    "print(path_to_pc2)\n",
    "\n",
    "simpleicp.simpleicp(X_fix, X_mov)"
   ]
  },
  {
   "cell_type": "code",
   "execution_count": 3,
   "id": "b8d215ea",
   "metadata": {},
   "outputs": [],
   "source": [
    "#type(simpleicp.simpleicp(X_fix, X_mov))"
   ]
  },
  {
   "cell_type": "code",
   "execution_count": 4,
   "id": "2924e1bb",
   "metadata": {},
   "outputs": [
    {
     "name": "stdout",
     "output_type": "stream",
     "text": [
      "[15:16:56.676] Create point cloud objects ...\n",
      "[15:16:56.676] Select points for correspondences in fixed point cloud ...\n",
      "[15:16:56.676] Estimate normals of selected points ...\n",
      "[15:16:57.237] Start iterations ...\n",
      "[15:16:57.732] Iteration | correspondences | mean(residuals) | std(residuals) \n",
      "[15:16:57.733]         0 |             910 |         -0.8638 |          8.0106\n",
      "[15:16:57.733]         1 |             910 |         -0.0020 |          1.8261\n",
      "[15:16:58.279]         2 |             910 |         -0.0131 |          0.3462\n",
      "[15:16:58.818]         3 |             910 |         -0.0035 |          0.1275\n",
      "[15:16:59.373]         4 |             910 |         -0.0007 |          0.1118\n",
      "[15:16:59.920]         5 |             910 |         -0.0016 |          0.1142\n",
      "[15:17:00.466]         6 |             910 |         -0.0015 |          0.1141\n",
      "[15:17:01.068] Convergence criteria fulfilled -> stop iteration!\n",
      "[15:17:01.068] Estimated transformation matrix H:\n",
      "[15:17:01.068] H = [    0.999933     0.017275     0.017588    -1.055007]\n",
      "[15:17:01.068]     [   -0.017316     0.999924     0.017387    -2.018525]\n",
      "[15:17:01.068]     [   -0.017508    -0.017460     0.999959     1.077052]\n",
      "[15:17:01.068]     [    0.000000     0.000000     0.000000     1.000000]\n",
      "[15:17:01.068] Finished in 4.392 seconds!\n"
     ]
    }
   ],
   "source": [
    "transformation=simpleicp.simpleicp(X_fix, X_mov)"
   ]
  },
  {
   "cell_type": "code",
   "execution_count": 5,
   "id": "b812c32e",
   "metadata": {},
   "outputs": [
    {
     "data": {
      "text/plain": [
       "array([[ 0.99993295,  0.0172753 ,  0.01758751, -1.05500676],\n",
       "       [-0.01731647,  0.99992384,  0.0173867 , -2.01852533],\n",
       "       [-0.01750752, -0.01746023,  0.99995918,  1.0770519 ],\n",
       "       [ 0.        ,  0.        ,  0.        ,  1.        ]])"
      ]
     },
     "execution_count": 5,
     "metadata": {},
     "output_type": "execute_result"
    }
   ],
   "source": [
    "transformation"
   ]
  },
  {
   "cell_type": "code",
   "execution_count": 6,
   "id": "6cd95c92",
   "metadata": {},
   "outputs": [
    {
     "name": "stdout",
     "output_type": "stream",
     "text": [
      "Jupyter environment detected. Enabling Open3D WebVisualizer.\n",
      "[Open3D INFO] WebRTC GUI backend enabled.\n",
      "[Open3D INFO] WebRTCWindowSystem: HTTP handshake server disabled.\n"
     ]
    }
   ],
   "source": [
    "import open3d as o3d\n",
    "import numpy as np\n",
    "import copy\n",
    "def draw_registration_result(source, target, transformation):\n",
    "    source_temp = copy.deepcopy(source)\n",
    "    target_temp = copy.deepcopy(target)\n",
    "    source_temp.paint_uniform_color([1, 0.706, 0])\n",
    "    target_temp.paint_uniform_color([0, 0.651, 0.929])\n",
    "    source_temp.transform(transformation)\n",
    "    o3d.visualization.draw_geometries([source_temp, target_temp])\n"
   ]
  },
  {
   "cell_type": "code",
   "execution_count": null,
   "id": "e2c46c2e",
   "metadata": {},
   "outputs": [],
   "source": []
  },
  {
   "cell_type": "code",
   "execution_count": null,
   "id": "3a1ee5a9",
   "metadata": {},
   "outputs": [],
   "source": []
  },
  {
   "cell_type": "code",
   "execution_count": null,
   "id": "4dde8c83",
   "metadata": {},
   "outputs": [],
   "source": []
  },
  {
   "cell_type": "code",
   "execution_count": null,
   "id": "fc9c13f6",
   "metadata": {},
   "outputs": [],
   "source": []
  },
  {
   "cell_type": "code",
   "execution_count": null,
   "id": "6e005228",
   "metadata": {},
   "outputs": [],
   "source": []
  },
  {
   "cell_type": "code",
   "execution_count": null,
   "id": "d0bc3f81",
   "metadata": {},
   "outputs": [],
   "source": []
  },
  {
   "cell_type": "code",
   "execution_count": null,
   "id": "c7c5dd5f",
   "metadata": {},
   "outputs": [],
   "source": [
    "#########https://stackoverflow.com/questions/54898657/i-want-to-generate-a-mesh-from-a-point-cloud-in-python\n",
    "# I want to generate a mesh from a point cloud in Python\n",
    "\n",
    "import numpy as np\n",
    "import pyvista as pv\n",
    "\n",
    "# points is a 3D numpy array (n_points, 3) coordinates of a sphere\n",
    "cloud = pv.PolyData(X_fix)\n",
    "cloud.plot()\n",
    "\n",
    "volume = cloud.delaunay_3d(alpha=2.)\n",
    "shell = volume.extract_geometry()\n",
    "shell.plot()"
   ]
  },
  {
   "cell_type": "code",
   "execution_count": null,
   "id": "798402b6",
   "metadata": {},
   "outputs": [],
   "source": []
  }
 ],
 "metadata": {
  "kernelspec": {
   "display_name": "Python 3 (ipykernel)",
   "language": "python",
   "name": "python3"
  },
  "language_info": {
   "codemirror_mode": {
    "name": "ipython",
    "version": 3
   },
   "file_extension": ".py",
   "mimetype": "text/x-python",
   "name": "python",
   "nbconvert_exporter": "python",
   "pygments_lexer": "ipython3",
   "version": "3.8.11"
  }
 },
 "nbformat": 4,
 "nbformat_minor": 5
}
